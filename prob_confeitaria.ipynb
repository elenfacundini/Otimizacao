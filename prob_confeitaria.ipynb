{
  "nbformat": 4,
  "nbformat_minor": 0,
  "metadata": {
    "colab": {
      "provenance": [],
      "authorship_tag": "ABX9TyMUNfMsL7MT0syA46AuAfbX",
      "include_colab_link": true
    },
    "kernelspec": {
      "name": "python3",
      "display_name": "Python 3"
    },
    "language_info": {
      "name": "python"
    }
  },
  "cells": [
    {
      "cell_type": "markdown",
      "metadata": {
        "id": "view-in-github",
        "colab_type": "text"
      },
      "source": [
        "<a href=\"https://colab.research.google.com/github/elenfacundini/Otimizacao/blob/main/prob_confeitaria.ipynb\" target=\"_parent\"><img src=\"https://colab.research.google.com/assets/colab-badge.svg\" alt=\"Open In Colab\"/></a>"
      ]
    },
    {
      "cell_type": "code",
      "execution_count": 20,
      "metadata": {
        "id": "-G-iTnJWwRYa"
      },
      "outputs": [],
      "source": []
    },
    {
      "cell_type": "markdown",
      "source": [
        "#Problema da Confeitaria\n",
        "\n",
        "x1 -> lotes de bolo de chocolate\n",
        "x2 -> lotes de bolo de creme\n",
        "\n",
        "###Função Objetivo:\n",
        "max z = 3*x1 + 1*x2\n",
        "\n",
        "###Restrições:\n",
        "Quantidade mínima de lotes de bolo de chocolate por dia: x1 >= 10\n",
        "\n",
        "Quantidade mínima de produção de bolos por dia: x1 + x2 >= 20\n",
        "\n",
        "Quantidade máxima de demanda de lotes de bolo de chocolate: x1 <= 60\n",
        "\n",
        "Quantidade máxima de demanda de lotes de bolo de creme: x2 <= 40\n",
        "\n",
        "Disponibilidade máxima para a produção de bolos: 2*x1 + 3x2 <= 180\n"
      ],
      "metadata": {
        "id": "hRx8EcgJwgCu"
      }
    },
    {
      "cell_type": "code",
      "source": [
        "#Instalação da biblioteca Pulp:\n",
        "!pip install pulp\n"
      ],
      "metadata": {
        "colab": {
          "base_uri": "https://localhost:8080/"
        },
        "id": "TN6DcOwVy02g",
        "outputId": "1dc97807-23ab-4be5-8ca7-53bbb5b522db"
      },
      "execution_count": 21,
      "outputs": [
        {
          "output_type": "stream",
          "name": "stdout",
          "text": [
            "Requirement already satisfied: pulp in /usr/local/lib/python3.10/dist-packages (2.7.0)\n"
          ]
        }
      ]
    },
    {
      "cell_type": "code",
      "source": [
        "#Importação de objetos da Biblioteca\n",
        "from pulp import LpProblem, LpMaximize, LpVariable, LpStatus"
      ],
      "metadata": {
        "id": "S7jTW2QbzQzj"
      },
      "execution_count": 22,
      "outputs": []
    },
    {
      "cell_type": "code",
      "source": [
        "#Instância do modelo\n",
        "model = LpProblem(name = 'prob_confeitaria', sense=LpMaximize)"
      ],
      "metadata": {
        "id": "DiAi8AMI0RuZ"
      },
      "execution_count": 23,
      "outputs": []
    },
    {
      "cell_type": "code",
      "source": [
        "#Instancias das variáveis de decisão:\n",
        "x1 = LpVariable(name='lote_choco', lowBound=0, cat='Integer')\n",
        "x2 = LpVariable(name='lote_creme', lowBound=0, cat='Integer')\n",
        "\n"
      ],
      "metadata": {
        "id": "KoeXjbo20vBY"
      },
      "execution_count": 24,
      "outputs": []
    },
    {
      "cell_type": "code",
      "source": [
        "#Adição da função Objetivo no modelo:\n",
        "model += 3*x1 + 1*x2"
      ],
      "metadata": {
        "id": "ufCIQSX014Ba"
      },
      "execution_count": 25,
      "outputs": []
    },
    {
      "cell_type": "code",
      "source": [
        "##Adição das restrições do modelo:\n",
        "model += (x1 >= 10, 'min_lote_choco')\n",
        "model += (x1 + x2 >= 20, 'min_lote_bolos')\n",
        "model += (x1<=60, 'demanda_max_lote_choco')\n",
        "model += (x2 <= 40, 'demanda_max_lote_creme')\n",
        "model += (2*x1 +3*x2<=180, 'disponibilidade_max_producao')\n",
        "\n",
        "\n"
      ],
      "metadata": {
        "id": "b45Pxvsh2Ve_"
      },
      "execution_count": 26,
      "outputs": []
    },
    {
      "cell_type": "code",
      "source": [
        "print(model)\n"
      ],
      "metadata": {
        "colab": {
          "base_uri": "https://localhost:8080/"
        },
        "id": "zXl_BPVD4hAb",
        "outputId": "932db660-50c0-4b0d-de87-28df7d89565d"
      },
      "execution_count": 27,
      "outputs": [
        {
          "output_type": "stream",
          "name": "stdout",
          "text": [
            "prob_confeitaria:\n",
            "MAXIMIZE\n",
            "3*lote_choco + 1*lote_creme + 0\n",
            "SUBJECT TO\n",
            "min_lote_choco: lote_choco >= 10\n",
            "\n",
            "min_lote_bolos: lote_choco + lote_creme >= 20\n",
            "\n",
            "demanda_max_lote_choco: lote_choco <= 60\n",
            "\n",
            "demanda_max_lote_creme: lote_creme <= 40\n",
            "\n",
            "disponibilidade_max_producao: 2 lote_choco + 3 lote_creme <= 180\n",
            "\n",
            "VARIABLES\n",
            "0 <= lote_choco Integer\n",
            "0 <= lote_creme Integer\n",
            "\n"
          ]
        }
      ]
    },
    {
      "cell_type": "code",
      "source": [
        "#Resoluçaõ do Problema\n",
        "status = model.solve()"
      ],
      "metadata": {
        "id": "vrpdZ9Q847s2"
      },
      "execution_count": 28,
      "outputs": []
    },
    {
      "cell_type": "code",
      "source": [
        "#Impressão dos resultados:\n",
        "print('Status: {:>2}, {}'.format(model.status, LpStatus[model.status]))\n",
        "print(f'Status: {model.status}, {LpStatus[model.status]}')\n",
        "\n",
        "print('Objetivo: $ {:.2f}'.format(model.objective.value()))\n",
        "\n",
        "for var in model.variables():\n",
        "  print('{}: {:.2f}'.format(var.name, var.value()))"
      ],
      "metadata": {
        "colab": {
          "base_uri": "https://localhost:8080/"
        },
        "id": "Blc2Uzgw4vJn",
        "outputId": "c63d435c-7ce6-4d71-ef51-f1726bf27141"
      },
      "execution_count": 29,
      "outputs": [
        {
          "output_type": "stream",
          "name": "stdout",
          "text": [
            "Status:  1, Optimal\n",
            "Status: 1, Optimal\n",
            "Objetivo: $ 200.00\n",
            "lote_choco: 60.00\n",
            "lote_creme: 20.00\n"
          ]
        }
      ]
    }
  ]
}